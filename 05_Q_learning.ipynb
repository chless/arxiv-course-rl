{
  "nbformat": 4,
  "nbformat_minor": 0,
  "metadata": {
    "colab": {
      "provenance": [],
      "include_colab_link": true
    },
    "kernelspec": {
      "name": "python3",
      "display_name": "Python 3"
    },
    "language_info": {
      "name": "python"
    }
  },
  "cells": [
    {
      "cell_type": "markdown",
      "metadata": {
        "id": "view-in-github",
        "colab_type": "text"
      },
      "source": [
        "<a href=\"https://colab.research.google.com/github/chless/arxiv-course-rl/blob/2022-UNIST/05_Q_learning.ipynb\" target=\"_parent\"><img src=\"https://colab.research.google.com/assets/colab-badge.svg\" alt=\"Open In Colab\"/></a>"
      ]
    },
    {
      "cell_type": "markdown",
      "metadata": {
        "id": "2bBrdLCRZzCG"
      },
      "source": [
        "# Q-learning"
      ]
    },
    {
      "cell_type": "code",
      "metadata": {
        "colab": {
          "base_uri": "https://localhost:8080/"
        },
        "id": "BhkplQeDrSCo",
        "outputId": "38364dd5-7e35-4fc7-d234-2c46a131c463"
      },
      "source": [
        "import gym\n",
        "import numpy as np\n",
        "import matplotlib\n",
        "import matplotlib.pyplot as plt\n",
        "%matplotlib inline\n",
        "print (\"plt version:[%s]\"%(matplotlib.__version__))\n",
        "print (\"gym version:[%s]\"%(gym.__version__))"
      ],
      "execution_count": null,
      "outputs": [
        {
          "output_type": "stream",
          "name": "stdout",
          "text": [
            "plt version:[3.2.2]\n",
            "gym version:[0.17.3]\n"
          ]
        }
      ]
    },
    {
      "cell_type": "markdown",
      "metadata": {
        "id": "59r4CmYP-SZO"
      },
      "source": [
        "##### Helper functions\n"
      ]
    },
    {
      "cell_type": "code",
      "metadata": {
        "id": "eHtVCzh7zMap"
      },
      "source": [
        "def display_q_value(Q, title=\"Q Function\",fig_size=8,text_fs=9,title_fs=15):\n",
        "    \"\"\"\n",
        "    Display Q value\n",
        "    \"\"\"\n",
        "    n_state, n_action = Q.shape\n",
        "    nRow = 4\n",
        "    # Triangle patches for each action\n",
        "    lft_tri = np.array([[0,0],[-0.5,-0.5],[-0.5,0.5]])\n",
        "    dw_tri = np.array([[0,0],[-0.5,0.5],[0.5,0.5]])\n",
        "    up_tri = np.array([[0,0],[0.5,-0.5],[-0.5,-0.5]])\n",
        "    rgh_tri = np.array([[0,0],[0.5,0.5],[0.5,-0.5]])\n",
        "    # Color\n",
        "    high_color = np.array([1.0, 0.0, 0.0, 0.8])\n",
        "    low_color  = np.array([1.0, 1.0, 1.0, 0.8])\n",
        "    fig = plt.figure(figsize=(fig_size,fig_size))\n",
        "    plt.title(title,fontsize=title_fs)  \n",
        "    for i in range(nRow):\n",
        "        for j in range(nRow):\n",
        "            s = i*nRow+j\n",
        "            min_q = np.min(Q[s])\n",
        "            max_q = np.max(Q[s])\n",
        "            for a in range(n_action):\n",
        "                q_value = Q[s,a]\n",
        "                ratio = (q_value - min_q)/(max_q - min_q + 1e-10) \n",
        "                if ratio > 1: clr = high_color\n",
        "                elif ratio < 0: clr = low_color\n",
        "                else: clr = high_color*ratio + low_color*(1-ratio)\n",
        "                if a == 0: # Left arrow\n",
        "                    plt.gca().add_patch(plt.Polygon([j,i]+lft_tri, color=clr, ec='k'))\n",
        "                    plt.text(j-0.25, i+0.0,\"%.2f\"%(q_value),fontsize=text_fs,va='center', ha='center')\n",
        "                if a == 1: # Down arrow\n",
        "                    plt.gca().add_patch(plt.Polygon([j,i]+dw_tri, color=clr, ec='k'))\n",
        "                    plt.text(j-0.0, i+0.25,\"%.2f\"%(q_value),fontsize=text_fs,va='center', ha='center')\n",
        "                if a == 2: # Right arrow\n",
        "                    plt.gca().add_patch(plt.Polygon([j,i]+rgh_tri, color=clr, ec='k'))\n",
        "                    plt.text(j+0.25, i+0.0,\"%.2f\"%(q_value),fontsize=text_fs,va='center', ha='center')\n",
        "                if a == 3: # Up arrow\n",
        "                    plt.gca().add_patch(plt.Polygon([j,i]+up_tri, color=clr, ec='k'))\n",
        "                    plt.text(j-0.0, i-0.25,\"%.2f\"%(q_value),fontsize=text_fs,va='center', ha='center')\n",
        "    plt.xlim([-0.5,nRow-0.5])\n",
        "    plt.xticks(range(nRow))\n",
        "    plt.ylim([-0.5,nRow-0.5])\n",
        "    plt.yticks(range(nRow))\n",
        "    plt.gca().invert_yaxis()\n",
        "    plt.show()\n",
        "    \n",
        "def visualize_matrix(M,strs='',fontsize=15,cmap='turbo',title='Title',title_fs=15,\n",
        "                     fig_size=8,REMOVE_TICK_LABELS=True):\n",
        "    \"\"\"\n",
        "    Visualize a matrix colors and strings \n",
        "    \"\"\"\n",
        "    from mpl_toolkits.axes_grid1 import make_axes_locatable\n",
        "    n_row,n_col = M.shape[0],M.shape[1]\n",
        "    fig,ax = plt.subplots(figsize=(fig_size,fig_size))\n",
        "    divider = make_axes_locatable(ax)\n",
        "    im = ax.imshow(M,cmap=plt.get_cmap(cmap),extent=(0,n_col,n_row,0),\n",
        "              interpolation='nearest',aspect='equal')\n",
        "    ax.set_xticks(np.arange(0,n_col,1))\n",
        "    ax.set_yticks(np.arange(0,n_row,1))\n",
        "    ax.grid(color='w', linewidth=2)\n",
        "    ax.set_frame_on(False)\n",
        "    x,y = np.meshgrid(np.arange(0,n_col,1.0),np.arange(0,n_row,1.0))\n",
        "    if len(strs) == n_row*n_col:\n",
        "        idx = 0\n",
        "        for x_val,y_val in zip(x.flatten(), y.flatten()):\n",
        "            c = strs[idx]\n",
        "            idx = idx + 1\n",
        "            ax.text(x_val+0.5,y_val+0.5,c,va='center', ha='center',size=fontsize)\n",
        "    cax = divider.append_axes('right', size='5%', pad=0.05)            \n",
        "    fig.colorbar(im, cax=cax, orientation='vertical')\n",
        "    fig.suptitle(title,size=title_fs) \n",
        "    fig.tight_layout()\n",
        "    fig.subplots_adjust(top=0.9)\n",
        "    if REMOVE_TICK_LABELS:\n",
        "        plt.setp(ax.get_xticklabels(),visible=False)\n",
        "        plt.setp(ax.get_yticklabels(),visible=False)\n",
        "    plt.show()"
      ],
      "execution_count": null,
      "outputs": []
    },
    {
      "cell_type": "markdown",
      "metadata": {
        "id": "p1d8oUSo9yMe"
      },
      "source": [
        "### Q Learning\n",
        "To implement model-free policy iteration, we need to estimate the followings using samples:\n",
        "\n",
        "$Q_{k+1}(s,a) = \\sum_{s'} \\left[r(s,a,s') + \\gamma \\max_{a'} Q_{k}(s',a') \\right] P(s'|s,a)$\n",
        "\n",
        "Update Q value using temporal difference (TD) target and error:\n",
        "\n",
        "$Q_{new}(S_{t}, A_{t}) \\leftarrow Q_{old}(S_{t}, A_{t}) + \\alpha (R_{t+1} + \\gamma \\max_{a'} Q_{old}(S_{t+1},a') - Q_{old}(S_{t}, A_{t}))$\n",
        "\n",
        "We can update our estimator online, just $(S_{t},A_{t},R_{t+1},S_{t+1})$ is needed.\n",
        "$A_{t+1}$ is not needed.\n",
        "\n",
        "TD target is $R_{t+1} + \\gamma \\max_{a'} Q_{old}(S_{t+1},a')$\n",
        "\n",
        "TD error is $R_{t+1} + \\gamma \\max_{a'} Q_{old}(S_{t+1},a') - Q(S_{t},A_{t})$\n",
        "\n",
        "Algorithm\n",
        "--\n",
        "---\n",
        "For every time step\n",
        "\n",
        "Policy Evaluation\n",
        "\n",
        "- Collect $(S_{t},A_{t},R_{t+1},S_{t+1})$\n",
        "\n",
        "- $\\text{TD target} = R_{t+1} + \\gamma \\max_{a'} Q_{old}(S_{t+1},a')$\n",
        "\n",
        "- $\\text{TD error} = R_{t+1} + \\gamma \\max_{a'} Q_{old}(S_{t+1},a') - Q(S_{t},A_{t})$\n",
        "\n",
        "- $Q[S_{t}, A_{t}] = Q[S_{t}, A_{t}] + \\alpha \\text{TD target}$\n",
        "\n",
        "Policy Improvement\n",
        "\n",
        "- $\\pi(a|s) = \\frac{\\epsilon}{m} + (1-\\epsilon) \\mathbf{1}\\left(a = \\max_{a'} Q(s,a')\\right)$"
      ]
    },
    {
      "cell_type": "code",
      "metadata": {
        "id": "J4TXvb7PzOVB"
      },
      "source": [
        "class Q_learningAgent():\n",
        "    def __init__(self,n_state,n_action,alpha=0.5,epsilon=1.0,gamma=0.999):\n",
        "        self.n_state = n_state\n",
        "        self.n_action = n_action\n",
        "        self.alpha_init = alpha\n",
        "        self.alpha = alpha\n",
        "        self.epsilon = epsilon\n",
        "        self.gamma = gamma\n",
        "        \n",
        "        # Initial Q value\n",
        "        self.Q = np.zeros([n_state,n_action])\n",
        "        \n",
        "    def update_Q(self,state,action,reward,state_prime,done):\n",
        "        \"\"\"\n",
        "        Update value\n",
        "        \"\"\"\n",
        "        Q_old = self.Q[state][action]\n",
        "        # TD target\n",
        "        if done:\n",
        "            td_target = reward\n",
        "        else:\n",
        "            td_target = reward + self.gamma*np.max(self.Q[state_prime])\n",
        "        td_error = td_target - Q_old # TD error\n",
        "        self.Q[state,action] = Q_old + self.alpha*td_error # update Q\n",
        "        \n",
        "    def update_epsilon(self,epsilon):\n",
        "        self.epsilon = np.min([epsilon,1.0]) \n",
        "        \n",
        "    def update_alpha(self,alpha):\n",
        "        self.alpha = np.min([alpha,self.alpha_init]) \n",
        "        \n",
        "    def get_action(self,state):\n",
        "        \"\"\"\n",
        "        Get action\n",
        "        \"\"\"\n",
        "        if np.random.uniform() < self.epsilon:\n",
        "            action = np.random.randint(0,high=self.n_action)\n",
        "        else:\n",
        "            action = np.argmax(self.Q[state])\n",
        "        return action \n",
        "    "
      ],
      "execution_count": null,
      "outputs": []
    },
    {
      "cell_type": "markdown",
      "metadata": {
        "id": "g0YyZpAf-FER"
      },
      "source": [
        "### Run Q learning agent\n",
        "\n",
        "3,000 episodes"
      ]
    },
    {
      "cell_type": "code",
      "metadata": {
        "id": "Y8NFn37p9zuf",
        "colab": {
          "base_uri": "https://localhost:8080/"
        },
        "outputId": "cdf8b37a-0dc2-4acd-9bcf-39f3148e0e9e"
      },
      "source": [
        "env = gym.make('FrozenLake-v0')\n",
        "n_state = env.observation_space.n\n",
        "n_action = env.action_space.n\n",
        "# epsilon=1.0 -> random policy\n",
        "agent = Q_learningAgent(n_state,n_action,epsilon=1.0,alpha=0.1,gamma=0.999)\n",
        "# Loop \n",
        "n_episode = 3000\n",
        "for e_idx in range(n_episode):\n",
        "    state = env.reset()\n",
        "    action = agent.get_action(state)\n",
        "    done = False\n",
        "    while not done:\n",
        "        state_prime, reward, done, info = env.step(action)\n",
        "        action_prime = agent.get_action(state_prime)\n",
        "        agent.update_Q(state, action, reward, state_prime, done)\n",
        "        state = state_prime\n",
        "        action = action_prime\n",
        "        \n",
        "    # agent.update_epsilon(1000/(e_idx+1)) # reduce randomness\n",
        "    agent.update_alpha(1000/(e_idx+1)) # reduce update rate\n",
        "print (\"Q-learning done.\")"
      ],
      "execution_count": null,
      "outputs": [
        {
          "output_type": "stream",
          "name": "stdout",
          "text": [
            "Q-learning done.\n"
          ]
        }
      ]
    },
    {
      "cell_type": "code",
      "metadata": {
        "id": "2k2HLXFP99NN",
        "colab": {
          "base_uri": "https://localhost:8080/",
          "height": 1000
        },
        "outputId": "c2a6517a-5a38-45cb-80b8-e6a7b170f1b9"
      },
      "source": [
        "# Plot env\n",
        "E = np.zeros(shape=(4,4))\n",
        "strs = ['S','F','F','F',\n",
        "        'F','H','F','H',\n",
        "        'F','F','F','H',\n",
        "        'H','F','F','G',]\n",
        "E[0,0] = 1 # Start\n",
        "E[1,1]=E[1,3]=E[2,3]=E[3,0]=2 # Hole\n",
        "E[3,3] = 3 # Goal\n",
        "\n",
        "visualize_matrix(E,strs=strs,cmap='Pastel1',title='FrozenLake',fig_size=7)\n",
        "display_q_value(agent.Q,title=\"Q Learning\",fig_size=8,text_fs=9,title_fs=15)    "
      ],
      "execution_count": null,
      "outputs": [
        {
          "output_type": "display_data",
          "data": {
            "image/png": "[encoded data removed]",
            "text/plain": [
              "<Figure size 504x504 with 2 Axes>"
            ]
          },
          "metadata": {
            "needs_background": "light"
          }
        },
        {
          "output_type": "display_data",
          "data": {
            "image/png": "[encoded data removed]",
            "text/plain": [
              "<Figure size 576x576 with 1 Axes>"
            ]
          },
          "metadata": {
            "needs_background": "light"
          }
        }
      ]
    },
    {
      "cell_type": "markdown",
      "metadata": {
        "id": "Dy50WETEV1zf"
      },
      "source": [
        "### Cliff Walking"
      ]
    },
    {
      "cell_type": "code",
      "metadata": {
        "id": "s8EOljQKlJs0"
      },
      "source": [
        "from gym.envs.toy_text.cliffwalking import CliffWalkingEnv"
      ],
      "execution_count": null,
      "outputs": []
    },
    {
      "cell_type": "code",
      "metadata": {
        "id": "ymG_ZcxcSQwG"
      },
      "source": [
        "env = CliffWalkingEnv()"
      ],
      "execution_count": null,
      "outputs": []
    },
    {
      "cell_type": "code",
      "metadata": {
        "colab": {
          "base_uri": "https://localhost:8080/"
        },
        "id": "pima-an5SSdq",
        "outputId": "c0ebbeeb-2d02-4c37-e9b9-ccf694068e78"
      },
      "source": [
        "env.render()"
      ],
      "execution_count": null,
      "outputs": [
        {
          "output_type": "stream",
          "name": "stdout",
          "text": [
            "o  o  o  o  o  o  o  o  o  o  o  o\n",
            "o  o  o  o  o  o  o  o  o  o  o  o\n",
            "o  o  o  o  o  o  o  o  o  o  o  o\n",
            "x  C  C  C  C  C  C  C  C  C  C  T\n",
            "\n"
          ]
        }
      ]
    },
    {
      "cell_type": "code",
      "metadata": {
        "colab": {
          "base_uri": "https://localhost:8080/"
        },
        "id": "15T6P-qUSUcN",
        "outputId": "38b9fcd1-ae33-4ccb-f9eb-d17510cf821a"
      },
      "source": [
        "# 4x12 grid = 48 states\n",
        "print (\"Number of states:\", env.nS)\n",
        "print (\"Number of actions that an agent can take:\", env.nA)\n",
        "action_space = [\"up\", \"right\", \"down\", \"left\"]"
      ],
      "execution_count": null,
      "outputs": [
        {
          "output_type": "stream",
          "name": "stdout",
          "text": [
            "Number of states: 48\n",
            "Number of actions that an agent can take: 4\n"
          ]
        }
      ]
    },
    {
      "cell_type": "code",
      "metadata": {
        "colab": {
          "base_uri": "https://localhost:8080/"
        },
        "id": "CzzQKf2iSWw7",
        "outputId": "76999892-5e16-4128-80ce-1388c1f67127"
      },
      "source": [
        "print (\"Current state\", env.s)\n",
        "print (\"Transitions from current state:\", env.P[env.s])"
      ],
      "execution_count": null,
      "outputs": [
        {
          "output_type": "stream",
          "name": "stdout",
          "text": [
            "Current state 36\n",
            "Transitions from current state: {0: [(1.0, 24, -1, False)], 1: [(1.0, 36, -100, False)], 2: [(1.0, 36, -1, False)], 3: [(1.0, 36, -1, False)]}\n"
          ]
        }
      ]
    },
    {
      "cell_type": "code",
      "metadata": {
        "id": "V_vJ9gu_Ylik"
      },
      "source": [
        "for s in range(48):\n",
        "    for a in range(4):\n",
        "        if env.P[s][a][0][2] == -100:\n",
        "            env.P[s][a][0] = (env.P[s][a][0][0], env.P[s][a][0][1], env.P[s][a][0][2], True)"
      ],
      "execution_count": null,
      "outputs": []
    },
    {
      "cell_type": "code",
      "metadata": {
        "colab": {
          "base_uri": "https://localhost:8080/"
        },
        "collapsed": true,
        "id": "YlEH2UVsZK34",
        "outputId": "8ffb02da-6cd5-49b0-b1ee-2d59b9c9da2c"
      },
      "source": [
        "env.P"
      ],
      "execution_count": null,
      "outputs": [
        {
          "output_type": "execute_result",
          "data": {
            "text/plain": [
              "{0: {0: [(1.0, 0, -1, False)],\n",
              "  1: [(1.0, 1, -1, False)],\n",
              "  2: [(1.0, 12, -1, False)],\n",
              "  3: [(1.0, 0, -1, False)]},\n",
              " 1: {0: [(1.0, 1, -1, False)],\n",
              "  1: [(1.0, 2, -1, False)],\n",
              "  2: [(1.0, 13, -1, False)],\n",
              "  3: [(1.0, 0, -1, False)]},\n",
              " 2: {0: [(1.0, 2, -1, False)],\n",
              "  1: [(1.0, 3, -1, False)],\n",
              "  2: [(1.0, 14, -1, False)],\n",
              "  3: [(1.0, 1, -1, False)]},\n",
              " 3: {0: [(1.0, 3, -1, False)],\n",
              "  1: [(1.0, 4, -1, False)],\n",
              "  2: [(1.0, 15, -1, False)],\n",
              "  3: [(1.0, 2, -1, False)]},\n",
              " 4: {0: [(1.0, 4, -1, False)],\n",
              "  1: [(1.0, 5, -1, False)],\n",
              "  2: [(1.0, 16, -1, False)],\n",
              "  3: [(1.0, 3, -1, False)]},\n",
              " 5: {0: [(1.0, 5, -1, False)],\n",
              "  1: [(1.0, 6, -1, False)],\n",
              "  2: [(1.0, 17, -1, False)],\n",
              "  3: [(1.0, 4, -1, False)]},\n",
              " 6: {0: [(1.0, 6, -1, False)],\n",
              "  1: [(1.0, 7, -1, False)],\n",
              "  2: [(1.0, 18, -1, False)],\n",
              "  3: [(1.0, 5, -1, False)]},\n",
              " 7: {0: [(1.0, 7, -1, False)],\n",
              "  1: [(1.0, 8, -1, False)],\n",
              "  2: [(1.0, 19, -1, False)],\n",
              "  3: [(1.0, 6, -1, False)]},\n",
              " 8: {0: [(1.0, 8, -1, False)],\n",
              "  1: [(1.0, 9, -1, False)],\n",
              "  2: [(1.0, 20, -1, False)],\n",
              "  3: [(1.0, 7, -1, False)]},\n",
              " 9: {0: [(1.0, 9, -1, False)],\n",
              "  1: [(1.0, 10, -1, False)],\n",
              "  2: [(1.0, 21, -1, False)],\n",
              "  3: [(1.0, 8, -1, False)]},\n",
              " 10: {0: [(1.0, 10, -1, False)],\n",
              "  1: [(1.0, 11, -1, False)],\n",
              "  2: [(1.0, 22, -1, False)],\n",
              "  3: [(1.0, 9, -1, False)]},\n",
              " 11: {0: [(1.0, 11, -1, False)],\n",
              "  1: [(1.0, 11, -1, False)],\n",
              "  2: [(1.0, 23, -1, False)],\n",
              "  3: [(1.0, 10, -1, False)]},\n",
              " 12: {0: [(1.0, 0, -1, False)],\n",
              "  1: [(1.0, 13, -1, False)],\n",
              "  2: [(1.0, 24, -1, False)],\n",
              "  3: [(1.0, 12, -1, False)]},\n",
              " 13: {0: [(1.0, 1, -1, False)],\n",
              "  1: [(1.0, 14, -1, False)],\n",
              "  2: [(1.0, 25, -1, False)],\n",
              "  3: [(1.0, 12, -1, False)]},\n",
              " 14: {0: [(1.0, 2, -1, False)],\n",
              "  1: [(1.0, 15, -1, False)],\n",
              "  2: [(1.0, 26, -1, False)],\n",
              "  3: [(1.0, 13, -1, False)]},\n",
              " 15: {0: [(1.0, 3, -1, False)],\n",
              "  1: [(1.0, 16, -1, False)],\n",
              "  2: [(1.0, 27, -1, False)],\n",
              "  3: [(1.0, 14, -1, False)]},\n",
              " 16: {0: [(1.0, 4, -1, False)],\n",
              "  1: [(1.0, 17, -1, False)],\n",
              "  2: [(1.0, 28, -1, False)],\n",
              "  3: [(1.0, 15, -1, False)]},\n",
              " 17: {0: [(1.0, 5, -1, False)],\n",
              "  1: [(1.0, 18, -1, False)],\n",
              "  2: [(1.0, 29, -1, False)],\n",
              "  3: [(1.0, 16, -1, False)]},\n",
              " 18: {0: [(1.0, 6, -1, False)],\n",
              "  1: [(1.0, 19, -1, False)],\n",
              "  2: [(1.0, 30, -1, False)],\n",
              "  3: [(1.0, 17, -1, False)]},\n",
              " 19: {0: [(1.0, 7, -1, False)],\n",
              "  1: [(1.0, 20, -1, False)],\n",
              "  2: [(1.0, 31, -1, False)],\n",
              "  3: [(1.0, 18, -1, False)]},\n",
              " 20: {0: [(1.0, 8, -1, False)],\n",
              "  1: [(1.0, 21, -1, False)],\n",
              "  2: [(1.0, 32, -1, False)],\n",
              "  3: [(1.0, 19, -1, False)]},\n",
              " 21: {0: [(1.0, 9, -1, False)],\n",
              "  1: [(1.0, 22, -1, False)],\n",
              "  2: [(1.0, 33, -1, False)],\n",
              "  3: [(1.0, 20, -1, False)]},\n",
              " 22: {0: [(1.0, 10, -1, False)],\n",
              "  1: [(1.0, 23, -1, False)],\n",
              "  2: [(1.0, 34, -1, False)],\n",
              "  3: [(1.0, 21, -1, False)]},\n",
              " 23: {0: [(1.0, 11, -1, False)],\n",
              "  1: [(1.0, 23, -1, False)],\n",
              "  2: [(1.0, 35, -1, False)],\n",
              "  3: [(1.0, 22, -1, False)]},\n",
              " 24: {0: [(1.0, 12, -1, False)],\n",
              "  1: [(1.0, 25, -1, False)],\n",
              "  2: [(1.0, 36, -1, False)],\n",
              "  3: [(1.0, 24, -1, False)]},\n",
              " 25: {0: [(1.0, 13, -1, False)],\n",
              "  1: [(1.0, 26, -1, False)],\n",
              "  2: [(1.0, 36, -100, True)],\n",
              "  3: [(1.0, 24, -1, False)]},\n",
              " 26: {0: [(1.0, 14, -1, False)],\n",
              "  1: [(1.0, 27, -1, False)],\n",
              "  2: [(1.0, 36, -100, True)],\n",
              "  3: [(1.0, 25, -1, False)]},\n",
              " 27: {0: [(1.0, 15, -1, False)],\n",
              "  1: [(1.0, 28, -1, False)],\n",
              "  2: [(1.0, 36, -100, True)],\n",
              "  3: [(1.0, 26, -1, False)]},\n",
              " 28: {0: [(1.0, 16, -1, False)],\n",
              "  1: [(1.0, 29, -1, False)],\n",
              "  2: [(1.0, 36, -100, True)],\n",
              "  3: [(1.0, 27, -1, False)]},\n",
              " 29: {0: [(1.0, 17, -1, False)],\n",
              "  1: [(1.0, 30, -1, False)],\n",
              "  2: [(1.0, 36, -100, True)],\n",
              "  3: [(1.0, 28, -1, False)]},\n",
              " 30: {0: [(1.0, 18, -1, False)],\n",
              "  1: [(1.0, 31, -1, False)],\n",
              "  2: [(1.0, 36, -100, True)],\n",
              "  3: [(1.0, 29, -1, False)]},\n",
              " 31: {0: [(1.0, 19, -1, False)],\n",
              "  1: [(1.0, 32, -1, False)],\n",
              "  2: [(1.0, 36, -100, True)],\n",
              "  3: [(1.0, 30, -1, False)]},\n",
              " 32: {0: [(1.0, 20, -1, False)],\n",
              "  1: [(1.0, 33, -1, False)],\n",
              "  2: [(1.0, 36, -100, True)],\n",
              "  3: [(1.0, 31, -1, False)]},\n",
              " 33: {0: [(1.0, 21, -1, False)],\n",
              "  1: [(1.0, 34, -1, False)],\n",
              "  2: [(1.0, 36, -100, True)],\n",
              "  3: [(1.0, 32, -1, False)]},\n",
              " 34: {0: [(1.0, 22, -1, False)],\n",
              "  1: [(1.0, 35, -1, False)],\n",
              "  2: [(1.0, 36, -100, True)],\n",
              "  3: [(1.0, 33, -1, False)]},\n",
              " 35: {0: [(1.0, 23, -1, False)],\n",
              "  1: [(1.0, 35, -1, False)],\n",
              "  2: [(1.0, 47, -1, True)],\n",
              "  3: [(1.0, 34, -1, False)]},\n",
              " 36: {0: [(1.0, 24, -1, False)],\n",
              "  1: [(1.0, 36, -100, True)],\n",
              "  2: [(1.0, 36, -1, False)],\n",
              "  3: [(1.0, 36, -1, False)]},\n",
              " 37: {0: [(1.0, 25, -1, False)],\n",
              "  1: [(1.0, 36, -100, True)],\n",
              "  2: [(1.0, 36, -100, True)],\n",
              "  3: [(1.0, 36, -1, False)]},\n",
              " 38: {0: [(1.0, 26, -1, False)],\n",
              "  1: [(1.0, 36, -100, True)],\n",
              "  2: [(1.0, 36, -100, True)],\n",
              "  3: [(1.0, 36, -100, True)]},\n",
              " 39: {0: [(1.0, 27, -1, False)],\n",
              "  1: [(1.0, 36, -100, True)],\n",
              "  2: [(1.0, 36, -100, True)],\n",
              "  3: [(1.0, 36, -100, True)]},\n",
              " 40: {0: [(1.0, 28, -1, False)],\n",
              "  1: [(1.0, 36, -100, True)],\n",
              "  2: [(1.0, 36, -100, True)],\n",
              "  3: [(1.0, 36, -100, True)]},\n",
              " 41: {0: [(1.0, 29, -1, False)],\n",
              "  1: [(1.0, 36, -100, True)],\n",
              "  2: [(1.0, 36, -100, True)],\n",
              "  3: [(1.0, 36, -100, True)]},\n",
              " 42: {0: [(1.0, 30, -1, False)],\n",
              "  1: [(1.0, 36, -100, True)],\n",
              "  2: [(1.0, 36, -100, True)],\n",
              "  3: [(1.0, 36, -100, True)]},\n",
              " 43: {0: [(1.0, 31, -1, False)],\n",
              "  1: [(1.0, 36, -100, True)],\n",
              "  2: [(1.0, 36, -100, True)],\n",
              "  3: [(1.0, 36, -100, True)]},\n",
              " 44: {0: [(1.0, 32, -1, False)],\n",
              "  1: [(1.0, 36, -100, True)],\n",
              "  2: [(1.0, 36, -100, True)],\n",
              "  3: [(1.0, 36, -100, True)]},\n",
              " 45: {0: [(1.0, 33, -1, False)],\n",
              "  1: [(1.0, 36, -100, True)],\n",
              "  2: [(1.0, 36, -100, True)],\n",
              "  3: [(1.0, 36, -100, True)]},\n",
              " 46: {0: [(1.0, 34, -1, False)],\n",
              "  1: [(1.0, 47, -1, True)],\n",
              "  2: [(1.0, 36, -100, True)],\n",
              "  3: [(1.0, 36, -100, True)]},\n",
              " 47: {0: [(1.0, 35, -1, False)],\n",
              "  1: [(1.0, 47, -1, True)],\n",
              "  2: [(1.0, 47, -1, True)],\n",
              "  3: [(1.0, 36, -100, True)]}}"
            ]
          },
          "metadata": {},
          "execution_count": 89
        }
      ]
    },
    {
      "cell_type": "code",
      "metadata": {
        "id": "_n5saYr6SZdi"
      },
      "source": [
        "import random\n",
        "from time import sleep\n",
        "\n",
        "env.reset()\n",
        "env.render()\n",
        "is_terminal = False\n",
        "while not is_terminal:\n",
        "    rnd_action = random.randint(0, 3)\n",
        "    print(\"Action taken:\", action_space[rnd_action])\n",
        "    next_state, reward, is_terminal, t_prob = env.step(rnd_action)\n",
        "    print(\"Transition probability:\", t_prob)\n",
        "    print(\"Next state:\", next_state)\n",
        "    print(\"Reward recieved:\", reward)\n",
        "    print(\"Terminal state:\", is_terminal)\n",
        "    env.render()\n",
        "    sleep(1)"
      ],
      "execution_count": null,
      "outputs": []
    },
    {
      "cell_type": "code",
      "metadata": {
        "id": "uShpMB0KTlJg",
        "colab": {
          "base_uri": "https://localhost:8080/"
        },
        "outputId": "379c1f0d-4c39-478e-f908-64ab00d9e0a2"
      },
      "source": [
        "n_state = env.observation_space.n\n",
        "n_action = env.action_space.n\n",
        "agent = Q_learningAgent(n_state,n_action,epsilon=1.0,alpha=0.1,gamma=0.999)\n",
        "\n",
        "# Loop\n",
        "n_episode = 10000\n",
        "for e_idx in range(n_episode):\n",
        "    state = env.reset() # reset environment, select initial \n",
        "    action = agent.get_action(state)\n",
        "    done = False\n",
        "    while not done:\n",
        "        state_prime, reward, done, info = env.step(action) # step \n",
        "        action_prime = agent.get_action(state_prime) # Get next action\n",
        "        agent.update_Q(state, action, reward, state_prime, done) # learns Q\n",
        "        state = state_prime\n",
        "        action = action_prime\n",
        "    agent.update_epsilon(100/(e_idx+1)) # Decaying epsilon\n",
        "print (\"Q-learning done.\")"
      ],
      "execution_count": null,
      "outputs": [
        {
          "output_type": "stream",
          "name": "stdout",
          "text": [
            "Q-learning done.\n"
          ]
        }
      ]
    },
    {
      "cell_type": "code",
      "metadata": {
        "id": "WtVAatJqSvKj",
        "colab": {
          "base_uri": "https://localhost:8080/"
        },
        "outputId": "2c4d5191-fe7e-4458-989d-bbd92614dd4d"
      },
      "source": [
        "is_terminal = False\n",
        "state = env.reset()\n",
        "env.render()\n",
        "while not is_terminal:\n",
        "    action = agent.get_action(state)\n",
        "    print(\"Action taken:\", action_space[action])\n",
        "    next_state, reward, is_terminal, t_prob = env.step(action)\n",
        "    print(\"Transition probability:\", t_prob)\n",
        "    print(\"Next state:\", next_state)\n",
        "    print(\"Reward recieved:\", reward)\n",
        "    print(\"Terminal state:\", is_terminal)\n",
        "    state = next_state\n",
        "    env.render()\n",
        "    sleep(1)"
      ],
      "execution_count": null,
      "outputs": [
        {
          "output_type": "stream",
          "name": "stdout",
          "text": [
            "o  o  o  o  o  o  o  o  o  o  o  o\n",
            "o  o  o  o  o  o  o  o  o  o  o  o\n",
            "o  o  o  o  o  o  o  o  o  o  o  o\n",
            "x  C  C  C  C  C  C  C  C  C  C  T\n",
            "\n",
            "Action taken: up\n",
            "Transition probability: {'prob': 1.0}\n",
            "Next state: 24\n",
            "Reward recieved: -1\n",
            "Terminal state: False\n",
            "o  o  o  o  o  o  o  o  o  o  o  o\n",
            "o  o  o  o  o  o  o  o  o  o  o  o\n",
            "x  o  o  o  o  o  o  o  o  o  o  o\n",
            "o  C  C  C  C  C  C  C  C  C  C  T\n",
            "\n",
            "Action taken: right\n",
            "Transition probability: {'prob': 1.0}\n",
            "Next state: 25\n",
            "Reward recieved: -1\n",
            "Terminal state: False\n",
            "o  o  o  o  o  o  o  o  o  o  o  o\n",
            "o  o  o  o  o  o  o  o  o  o  o  o\n",
            "o  x  o  o  o  o  o  o  o  o  o  o\n",
            "o  C  C  C  C  C  C  C  C  C  C  T\n",
            "\n",
            "Action taken: right\n",
            "Transition probability: {'prob': 1.0}\n",
            "Next state: 26\n",
            "Reward recieved: -1\n",
            "Terminal state: False\n",
            "o  o  o  o  o  o  o  o  o  o  o  o\n",
            "o  o  o  o  o  o  o  o  o  o  o  o\n",
            "o  o  x  o  o  o  o  o  o  o  o  o\n",
            "o  C  C  C  C  C  C  C  C  C  C  T\n",
            "\n",
            "Action taken: right\n",
            "Transition probability: {'prob': 1.0}\n",
            "Next state: 27\n",
            "Reward recieved: -1\n",
            "Terminal state: False\n",
            "o  o  o  o  o  o  o  o  o  o  o  o\n",
            "o  o  o  o  o  o  o  o  o  o  o  o\n",
            "o  o  o  x  o  o  o  o  o  o  o  o\n",
            "o  C  C  C  C  C  C  C  C  C  C  T\n",
            "\n",
            "Action taken: right\n",
            "Transition probability: {'prob': 1.0}\n",
            "Next state: 28\n",
            "Reward recieved: -1\n",
            "Terminal state: False\n",
            "o  o  o  o  o  o  o  o  o  o  o  o\n",
            "o  o  o  o  o  o  o  o  o  o  o  o\n",
            "o  o  o  o  x  o  o  o  o  o  o  o\n",
            "o  C  C  C  C  C  C  C  C  C  C  T\n",
            "\n",
            "Action taken: right\n",
            "Transition probability: {'prob': 1.0}\n",
            "Next state: 29\n",
            "Reward recieved: -1\n",
            "Terminal state: False\n",
            "o  o  o  o  o  o  o  o  o  o  o  o\n",
            "o  o  o  o  o  o  o  o  o  o  o  o\n",
            "o  o  o  o  o  x  o  o  o  o  o  o\n",
            "o  C  C  C  C  C  C  C  C  C  C  T\n",
            "\n",
            "Action taken: right\n",
            "Transition probability: {'prob': 1.0}\n",
            "Next state: 30\n",
            "Reward recieved: -1\n",
            "Terminal state: False\n",
            "o  o  o  o  o  o  o  o  o  o  o  o\n",
            "o  o  o  o  o  o  o  o  o  o  o  o\n",
            "o  o  o  o  o  o  x  o  o  o  o  o\n",
            "o  C  C  C  C  C  C  C  C  C  C  T\n",
            "\n",
            "Action taken: right\n",
            "Transition probability: {'prob': 1.0}\n",
            "Next state: 31\n",
            "Reward recieved: -1\n",
            "Terminal state: False\n",
            "o  o  o  o  o  o  o  o  o  o  o  o\n",
            "o  o  o  o  o  o  o  o  o  o  o  o\n",
            "o  o  o  o  o  o  o  x  o  o  o  o\n",
            "o  C  C  C  C  C  C  C  C  C  C  T\n",
            "\n",
            "Action taken: right\n",
            "Transition probability: {'prob': 1.0}\n",
            "Next state: 32\n",
            "Reward recieved: -1\n",
            "Terminal state: False\n",
            "o  o  o  o  o  o  o  o  o  o  o  o\n",
            "o  o  o  o  o  o  o  o  o  o  o  o\n",
            "o  o  o  o  o  o  o  o  x  o  o  o\n",
            "o  C  C  C  C  C  C  C  C  C  C  T\n",
            "\n",
            "Action taken: right\n",
            "Transition probability: {'prob': 1.0}\n",
            "Next state: 33\n",
            "Reward recieved: -1\n",
            "Terminal state: False\n",
            "o  o  o  o  o  o  o  o  o  o  o  o\n",
            "o  o  o  o  o  o  o  o  o  o  o  o\n",
            "o  o  o  o  o  o  o  o  o  x  o  o\n",
            "o  C  C  C  C  C  C  C  C  C  C  T\n",
            "\n",
            "Action taken: right\n",
            "Transition probability: {'prob': 1.0}\n",
            "Next state: 34\n",
            "Reward recieved: -1\n",
            "Terminal state: False\n",
            "o  o  o  o  o  o  o  o  o  o  o  o\n",
            "o  o  o  o  o  o  o  o  o  o  o  o\n",
            "o  o  o  o  o  o  o  o  o  o  x  o\n",
            "o  C  C  C  C  C  C  C  C  C  C  T\n",
            "\n",
            "Action taken: right\n",
            "Transition probability: {'prob': 1.0}\n",
            "Next state: 35\n",
            "Reward recieved: -1\n",
            "Terminal state: False\n",
            "o  o  o  o  o  o  o  o  o  o  o  o\n",
            "o  o  o  o  o  o  o  o  o  o  o  o\n",
            "o  o  o  o  o  o  o  o  o  o  o  x\n",
            "o  C  C  C  C  C  C  C  C  C  C  T\n",
            "\n",
            "Action taken: down\n",
            "Transition probability: {'prob': 1.0}\n",
            "Next state: 47\n",
            "Reward recieved: -1\n",
            "Terminal state: True\n",
            "o  o  o  o  o  o  o  o  o  o  o  o\n",
            "o  o  o  o  o  o  o  o  o  o  o  o\n",
            "o  o  o  o  o  o  o  o  o  o  o  o\n",
            "o  C  C  C  C  C  C  C  C  C  C  x\n",
            "\n"
          ]
        }
      ]
    },
    {
      "cell_type": "markdown",
      "metadata": {
        "id": "ygC57cjwgSaA"
      },
      "source": [
        "When penalty is much larger (-100 -> -1000)"
      ]
    },
    {
      "cell_type": "code",
      "metadata": {
        "id": "85VqIyHhgQ0p"
      },
      "source": [
        "for s in range(48):\n",
        "    for a in range(4):\n",
        "        if env.P[s][a][0][2] == -100:\n",
        "            env.P[s][a][0] = (env.P[s][a][0][0], env.P[s][a][0][1], -1000, True)"
      ],
      "execution_count": null,
      "outputs": []
    },
    {
      "cell_type": "code",
      "metadata": {
        "id": "RZa_p1bGgQ0w",
        "collapsed": true,
        "colab": {
          "base_uri": "https://localhost:8080/"
        },
        "outputId": "643ac108-2d8e-4a7b-d8c1-76f8dbccb8ec"
      },
      "source": [
        "env.P"
      ],
      "execution_count": null,
      "outputs": [
        {
          "output_type": "execute_result",
          "data": {
            "text/plain": [
              "{0: {0: [(1.0, 0, -1, False)],\n",
              "  1: [(1.0, 1, -1, False)],\n",
              "  2: [(1.0, 12, -1, False)],\n",
              "  3: [(1.0, 0, -1, False)]},\n",
              " 1: {0: [(1.0, 1, -1, False)],\n",
              "  1: [(1.0, 2, -1, False)],\n",
              "  2: [(1.0, 13, -1, False)],\n",
              "  3: [(1.0, 0, -1, False)]},\n",
              " 2: {0: [(1.0, 2, -1, False)],\n",
              "  1: [(1.0, 3, -1, False)],\n",
              "  2: [(1.0, 14, -1, False)],\n",
              "  3: [(1.0, 1, -1, False)]},\n",
              " 3: {0: [(1.0, 3, -1, False)],\n",
              "  1: [(1.0, 4, -1, False)],\n",
              "  2: [(1.0, 15, -1, False)],\n",
              "  3: [(1.0, 2, -1, False)]},\n",
              " 4: {0: [(1.0, 4, -1, False)],\n",
              "  1: [(1.0, 5, -1, False)],\n",
              "  2: [(1.0, 16, -1, False)],\n",
              "  3: [(1.0, 3, -1, False)]},\n",
              " 5: {0: [(1.0, 5, -1, False)],\n",
              "  1: [(1.0, 6, -1, False)],\n",
              "  2: [(1.0, 17, -1, False)],\n",
              "  3: [(1.0, 4, -1, False)]},\n",
              " 6: {0: [(1.0, 6, -1, False)],\n",
              "  1: [(1.0, 7, -1, False)],\n",
              "  2: [(1.0, 18, -1, False)],\n",
              "  3: [(1.0, 5, -1, False)]},\n",
              " 7: {0: [(1.0, 7, -1, False)],\n",
              "  1: [(1.0, 8, -1, False)],\n",
              "  2: [(1.0, 19, -1, False)],\n",
              "  3: [(1.0, 6, -1, False)]},\n",
              " 8: {0: [(1.0, 8, -1, False)],\n",
              "  1: [(1.0, 9, -1, False)],\n",
              "  2: [(1.0, 20, -1, False)],\n",
              "  3: [(1.0, 7, -1, False)]},\n",
              " 9: {0: [(1.0, 9, -1, False)],\n",
              "  1: [(1.0, 10, -1, False)],\n",
              "  2: [(1.0, 21, -1, False)],\n",
              "  3: [(1.0, 8, -1, False)]},\n",
              " 10: {0: [(1.0, 10, -1, False)],\n",
              "  1: [(1.0, 11, -1, False)],\n",
              "  2: [(1.0, 22, -1, False)],\n",
              "  3: [(1.0, 9, -1, False)]},\n",
              " 11: {0: [(1.0, 11, -1, False)],\n",
              "  1: [(1.0, 11, -1, False)],\n",
              "  2: [(1.0, 23, -1, False)],\n",
              "  3: [(1.0, 10, -1, False)]},\n",
              " 12: {0: [(1.0, 0, -1, False)],\n",
              "  1: [(1.0, 13, -1, False)],\n",
              "  2: [(1.0, 24, -1, False)],\n",
              "  3: [(1.0, 12, -1, False)]},\n",
              " 13: {0: [(1.0, 1, -1, False)],\n",
              "  1: [(1.0, 14, -1, False)],\n",
              "  2: [(1.0, 25, -1, False)],\n",
              "  3: [(1.0, 12, -1, False)]},\n",
              " 14: {0: [(1.0, 2, -1, False)],\n",
              "  1: [(1.0, 15, -1, False)],\n",
              "  2: [(1.0, 26, -1, False)],\n",
              "  3: [(1.0, 13, -1, False)]},\n",
              " 15: {0: [(1.0, 3, -1, False)],\n",
              "  1: [(1.0, 16, -1, False)],\n",
              "  2: [(1.0, 27, -1, False)],\n",
              "  3: [(1.0, 14, -1, False)]},\n",
              " 16: {0: [(1.0, 4, -1, False)],\n",
              "  1: [(1.0, 17, -1, False)],\n",
              "  2: [(1.0, 28, -1, False)],\n",
              "  3: [(1.0, 15, -1, False)]},\n",
              " 17: {0: [(1.0, 5, -1, False)],\n",
              "  1: [(1.0, 18, -1, False)],\n",
              "  2: [(1.0, 29, -1, False)],\n",
              "  3: [(1.0, 16, -1, False)]},\n",
              " 18: {0: [(1.0, 6, -1, False)],\n",
              "  1: [(1.0, 19, -1, False)],\n",
              "  2: [(1.0, 30, -1, False)],\n",
              "  3: [(1.0, 17, -1, False)]},\n",
              " 19: {0: [(1.0, 7, -1, False)],\n",
              "  1: [(1.0, 20, -1, False)],\n",
              "  2: [(1.0, 31, -1, False)],\n",
              "  3: [(1.0, 18, -1, False)]},\n",
              " 20: {0: [(1.0, 8, -1, False)],\n",
              "  1: [(1.0, 21, -1, False)],\n",
              "  2: [(1.0, 32, -1, False)],\n",
              "  3: [(1.0, 19, -1, False)]},\n",
              " 21: {0: [(1.0, 9, -1, False)],\n",
              "  1: [(1.0, 22, -1, False)],\n",
              "  2: [(1.0, 33, -1, False)],\n",
              "  3: [(1.0, 20, -1, False)]},\n",
              " 22: {0: [(1.0, 10, -1, False)],\n",
              "  1: [(1.0, 23, -1, False)],\n",
              "  2: [(1.0, 34, -1, False)],\n",
              "  3: [(1.0, 21, -1, False)]},\n",
              " 23: {0: [(1.0, 11, -1, False)],\n",
              "  1: [(1.0, 23, -1, False)],\n",
              "  2: [(1.0, 35, -1, False)],\n",
              "  3: [(1.0, 22, -1, False)]},\n",
              " 24: {0: [(1.0, 12, -1, False)],\n",
              "  1: [(1.0, 25, -1, False)],\n",
              "  2: [(1.0, 36, -1, False)],\n",
              "  3: [(1.0, 24, -1, False)]},\n",
              " 25: {0: [(1.0, 13, -1, False)],\n",
              "  1: [(1.0, 26, -1, False)],\n",
              "  2: [(1.0, 36, -1000, True)],\n",
              "  3: [(1.0, 24, -1, False)]},\n",
              " 26: {0: [(1.0, 14, -1, False)],\n",
              "  1: [(1.0, 27, -1, False)],\n",
              "  2: [(1.0, 36, -1000, True)],\n",
              "  3: [(1.0, 25, -1, False)]},\n",
              " 27: {0: [(1.0, 15, -1, False)],\n",
              "  1: [(1.0, 28, -1, False)],\n",
              "  2: [(1.0, 36, -1000, True)],\n",
              "  3: [(1.0, 26, -1, False)]},\n",
              " 28: {0: [(1.0, 16, -1, False)],\n",
              "  1: [(1.0, 29, -1, False)],\n",
              "  2: [(1.0, 36, -1000, True)],\n",
              "  3: [(1.0, 27, -1, False)]},\n",
              " 29: {0: [(1.0, 17, -1, False)],\n",
              "  1: [(1.0, 30, -1, False)],\n",
              "  2: [(1.0, 36, -1000, True)],\n",
              "  3: [(1.0, 28, -1, False)]},\n",
              " 30: {0: [(1.0, 18, -1, False)],\n",
              "  1: [(1.0, 31, -1, False)],\n",
              "  2: [(1.0, 36, -1000, True)],\n",
              "  3: [(1.0, 29, -1, False)]},\n",
              " 31: {0: [(1.0, 19, -1, False)],\n",
              "  1: [(1.0, 32, -1, False)],\n",
              "  2: [(1.0, 36, -1000, True)],\n",
              "  3: [(1.0, 30, -1, False)]},\n",
              " 32: {0: [(1.0, 20, -1, False)],\n",
              "  1: [(1.0, 33, -1, False)],\n",
              "  2: [(1.0, 36, -1000, True)],\n",
              "  3: [(1.0, 31, -1, False)]},\n",
              " 33: {0: [(1.0, 21, -1, False)],\n",
              "  1: [(1.0, 34, -1, False)],\n",
              "  2: [(1.0, 36, -1000, True)],\n",
              "  3: [(1.0, 32, -1, False)]},\n",
              " 34: {0: [(1.0, 22, -1, False)],\n",
              "  1: [(1.0, 35, -1, False)],\n",
              "  2: [(1.0, 36, -1000, True)],\n",
              "  3: [(1.0, 33, -1, False)]},\n",
              " 35: {0: [(1.0, 23, -1, False)],\n",
              "  1: [(1.0, 35, -1, False)],\n",
              "  2: [(1.0, 47, -1, True)],\n",
              "  3: [(1.0, 34, -1, False)]},\n",
              " 36: {0: [(1.0, 24, -1, False)],\n",
              "  1: [(1.0, 36, -1000, True)],\n",
              "  2: [(1.0, 36, -1, False)],\n",
              "  3: [(1.0, 36, -1, False)]},\n",
              " 37: {0: [(1.0, 25, -1, False)],\n",
              "  1: [(1.0, 36, -1000, True)],\n",
              "  2: [(1.0, 36, -1000, True)],\n",
              "  3: [(1.0, 36, -1, False)]},\n",
              " 38: {0: [(1.0, 26, -1, False)],\n",
              "  1: [(1.0, 36, -1000, True)],\n",
              "  2: [(1.0, 36, -1000, True)],\n",
              "  3: [(1.0, 36, -1000, True)]},\n",
              " 39: {0: [(1.0, 27, -1, False)],\n",
              "  1: [(1.0, 36, -1000, True)],\n",
              "  2: [(1.0, 36, -1000, True)],\n",
              "  3: [(1.0, 36, -1000, True)]},\n",
              " 40: {0: [(1.0, 28, -1, False)],\n",
              "  1: [(1.0, 36, -1000, True)],\n",
              "  2: [(1.0, 36, -1000, True)],\n",
              "  3: [(1.0, 36, -1000, True)]},\n",
              " 41: {0: [(1.0, 29, -1, False)],\n",
              "  1: [(1.0, 36, -1000, True)],\n",
              "  2: [(1.0, 36, -1000, True)],\n",
              "  3: [(1.0, 36, -1000, True)]},\n",
              " 42: {0: [(1.0, 30, -1, False)],\n",
              "  1: [(1.0, 36, -1000, True)],\n",
              "  2: [(1.0, 36, -1000, True)],\n",
              "  3: [(1.0, 36, -1000, True)]},\n",
              " 43: {0: [(1.0, 31, -1, False)],\n",
              "  1: [(1.0, 36, -1000, True)],\n",
              "  2: [(1.0, 36, -1000, True)],\n",
              "  3: [(1.0, 36, -1000, True)]},\n",
              " 44: {0: [(1.0, 32, -1, False)],\n",
              "  1: [(1.0, 36, -1000, True)],\n",
              "  2: [(1.0, 36, -1000, True)],\n",
              "  3: [(1.0, 36, -1000, True)]},\n",
              " 45: {0: [(1.0, 33, -1, False)],\n",
              "  1: [(1.0, 36, -1000, True)],\n",
              "  2: [(1.0, 36, -1000, True)],\n",
              "  3: [(1.0, 36, -1000, True)]},\n",
              " 46: {0: [(1.0, 34, -1, False)],\n",
              "  1: [(1.0, 47, -1, True)],\n",
              "  2: [(1.0, 36, -1000, True)],\n",
              "  3: [(1.0, 36, -1000, True)]},\n",
              " 47: {0: [(1.0, 35, -1, False)],\n",
              "  1: [(1.0, 47, -1, True)],\n",
              "  2: [(1.0, 47, -1, True)],\n",
              "  3: [(1.0, 36, -1000, True)]}}"
            ]
          },
          "metadata": {},
          "execution_count": 79
        }
      ]
    },
    {
      "cell_type": "code",
      "metadata": {
        "colab": {
          "base_uri": "https://localhost:8080/"
        },
        "id": "5fu0eWc6hKuC",
        "outputId": "9d8ab9cc-0db1-4831-bc08-e5e7c154c524"
      },
      "source": [
        "n_state = env.observation_space.n\n",
        "n_action = env.action_space.n\n",
        "agent = Q_learningAgent(n_state,n_action,epsilon=1.0,alpha=0.1,gamma=0.999)\n",
        "\n",
        "# Loop\n",
        "n_episode = 10000\n",
        "for e_idx in range(n_episode):\n",
        "    state = env.reset() # reset environment, select initial \n",
        "    action = agent.get_action(state)\n",
        "    done = False\n",
        "    while not done:\n",
        "        state_prime, reward, done, info = env.step(action) # step \n",
        "        action_prime = agent.get_action(state_prime) # Get next action\n",
        "        agent.update_Q(state, action, reward, state_prime, done) # learns Q\n",
        "        state = state_prime\n",
        "        action = action_prime\n",
        "    agent.update_epsilon(100/(e_idx+1)) # Decaying epsilon\n",
        "print (\"Q-learning done.\")"
      ],
      "execution_count": null,
      "outputs": [
        {
          "output_type": "stream",
          "name": "stdout",
          "text": [
            "Q-learning done.\n"
          ]
        }
      ]
    },
    {
      "cell_type": "code",
      "metadata": {
        "colab": {
          "base_uri": "https://localhost:8080/"
        },
        "id": "55TWEINchKuF",
        "outputId": "078457c6-b92c-43fb-a05c-fdc48c433224"
      },
      "source": [
        "is_terminal = False\n",
        "state = env.reset()\n",
        "env.render()\n",
        "while not is_terminal:\n",
        "    action = agent.get_action(state)\n",
        "    print(\"Action taken:\", action_space[action])\n",
        "    next_state, reward, is_terminal, t_prob = env.step(action)\n",
        "    print(\"Transition probability:\", t_prob)\n",
        "    print(\"Next state:\", next_state)\n",
        "    print(\"Reward recieved:\", reward)\n",
        "    print(\"Terminal state:\", is_terminal)\n",
        "    state = next_state\n",
        "    env.render()\n",
        "    sleep(1)"
      ],
      "execution_count": null,
      "outputs": [
        {
          "output_type": "stream",
          "name": "stdout",
          "text": [
            "o  o  o  o  o  o  o  o  o  o  o  o\n",
            "o  o  o  o  o  o  o  o  o  o  o  o\n",
            "o  o  o  o  o  o  o  o  o  o  o  o\n",
            "x  C  C  C  C  C  C  C  C  C  C  T\n",
            "\n",
            "Action taken: up\n",
            "Transition probability: {'prob': 1.0}\n",
            "Next state: 24\n",
            "Reward recieved: -1\n",
            "Terminal state: False\n",
            "o  o  o  o  o  o  o  o  o  o  o  o\n",
            "o  o  o  o  o  o  o  o  o  o  o  o\n",
            "x  o  o  o  o  o  o  o  o  o  o  o\n",
            "o  C  C  C  C  C  C  C  C  C  C  T\n",
            "\n",
            "Action taken: right\n",
            "Transition probability: {'prob': 1.0}\n",
            "Next state: 25\n",
            "Reward recieved: -1\n",
            "Terminal state: False\n",
            "o  o  o  o  o  o  o  o  o  o  o  o\n",
            "o  o  o  o  o  o  o  o  o  o  o  o\n",
            "o  x  o  o  o  o  o  o  o  o  o  o\n",
            "o  C  C  C  C  C  C  C  C  C  C  T\n",
            "\n",
            "Action taken: right\n",
            "Transition probability: {'prob': 1.0}\n",
            "Next state: 26\n",
            "Reward recieved: -1\n",
            "Terminal state: False\n",
            "o  o  o  o  o  o  o  o  o  o  o  o\n",
            "o  o  o  o  o  o  o  o  o  o  o  o\n",
            "o  o  x  o  o  o  o  o  o  o  o  o\n",
            "o  C  C  C  C  C  C  C  C  C  C  T\n",
            "\n",
            "Action taken: right\n",
            "Transition probability: {'prob': 1.0}\n",
            "Next state: 27\n",
            "Reward recieved: -1\n",
            "Terminal state: False\n",
            "o  o  o  o  o  o  o  o  o  o  o  o\n",
            "o  o  o  o  o  o  o  o  o  o  o  o\n",
            "o  o  o  x  o  o  o  o  o  o  o  o\n",
            "o  C  C  C  C  C  C  C  C  C  C  T\n",
            "\n",
            "Action taken: right\n",
            "Transition probability: {'prob': 1.0}\n",
            "Next state: 28\n",
            "Reward recieved: -1\n",
            "Terminal state: False\n",
            "o  o  o  o  o  o  o  o  o  o  o  o\n",
            "o  o  o  o  o  o  o  o  o  o  o  o\n",
            "o  o  o  o  x  o  o  o  o  o  o  o\n",
            "o  C  C  C  C  C  C  C  C  C  C  T\n",
            "\n",
            "Action taken: right\n",
            "Transition probability: {'prob': 1.0}\n",
            "Next state: 29\n",
            "Reward recieved: -1\n",
            "Terminal state: False\n",
            "o  o  o  o  o  o  o  o  o  o  o  o\n",
            "o  o  o  o  o  o  o  o  o  o  o  o\n",
            "o  o  o  o  o  x  o  o  o  o  o  o\n",
            "o  C  C  C  C  C  C  C  C  C  C  T\n",
            "\n",
            "Action taken: right\n",
            "Transition probability: {'prob': 1.0}\n",
            "Next state: 30\n",
            "Reward recieved: -1\n",
            "Terminal state: False\n",
            "o  o  o  o  o  o  o  o  o  o  o  o\n",
            "o  o  o  o  o  o  o  o  o  o  o  o\n",
            "o  o  o  o  o  o  x  o  o  o  o  o\n",
            "o  C  C  C  C  C  C  C  C  C  C  T\n",
            "\n",
            "Action taken: right\n",
            "Transition probability: {'prob': 1.0}\n",
            "Next state: 31\n",
            "Reward recieved: -1\n",
            "Terminal state: False\n",
            "o  o  o  o  o  o  o  o  o  o  o  o\n",
            "o  o  o  o  o  o  o  o  o  o  o  o\n",
            "o  o  o  o  o  o  o  x  o  o  o  o\n",
            "o  C  C  C  C  C  C  C  C  C  C  T\n",
            "\n",
            "Action taken: right\n",
            "Transition probability: {'prob': 1.0}\n",
            "Next state: 32\n",
            "Reward recieved: -1\n",
            "Terminal state: False\n",
            "o  o  o  o  o  o  o  o  o  o  o  o\n",
            "o  o  o  o  o  o  o  o  o  o  o  o\n",
            "o  o  o  o  o  o  o  o  x  o  o  o\n",
            "o  C  C  C  C  C  C  C  C  C  C  T\n",
            "\n",
            "Action taken: right\n",
            "Transition probability: {'prob': 1.0}\n",
            "Next state: 33\n",
            "Reward recieved: -1\n",
            "Terminal state: False\n",
            "o  o  o  o  o  o  o  o  o  o  o  o\n",
            "o  o  o  o  o  o  o  o  o  o  o  o\n",
            "o  o  o  o  o  o  o  o  o  x  o  o\n",
            "o  C  C  C  C  C  C  C  C  C  C  T\n",
            "\n",
            "Action taken: right\n",
            "Transition probability: {'prob': 1.0}\n",
            "Next state: 34\n",
            "Reward recieved: -1\n",
            "Terminal state: False\n",
            "o  o  o  o  o  o  o  o  o  o  o  o\n",
            "o  o  o  o  o  o  o  o  o  o  o  o\n",
            "o  o  o  o  o  o  o  o  o  o  x  o\n",
            "o  C  C  C  C  C  C  C  C  C  C  T\n",
            "\n",
            "Action taken: right\n",
            "Transition probability: {'prob': 1.0}\n",
            "Next state: 35\n",
            "Reward recieved: -1\n",
            "Terminal state: False\n",
            "o  o  o  o  o  o  o  o  o  o  o  o\n",
            "o  o  o  o  o  o  o  o  o  o  o  o\n",
            "o  o  o  o  o  o  o  o  o  o  o  x\n",
            "o  C  C  C  C  C  C  C  C  C  C  T\n",
            "\n",
            "Action taken: down\n",
            "Transition probability: {'prob': 1.0}\n",
            "Next state: 47\n",
            "Reward recieved: -1\n",
            "Terminal state: True\n",
            "o  o  o  o  o  o  o  o  o  o  o  o\n",
            "o  o  o  o  o  o  o  o  o  o  o  o\n",
            "o  o  o  o  o  o  o  o  o  o  o  o\n",
            "o  C  C  C  C  C  C  C  C  C  C  x\n",
            "\n"
          ]
        }
      ]
    },
    {
      "cell_type": "code",
      "metadata": {
        "id": "VYw6IZCJhLin"
      },
      "source": [],
      "execution_count": null,
      "outputs": []
    }
  ]
}